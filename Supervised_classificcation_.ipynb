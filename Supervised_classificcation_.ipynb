{
  "nbformat": 4,
  "nbformat_minor": 0,
  "metadata": {
    "colab": {
      "provenance": []
    },
    "kernelspec": {
      "name": "python3",
      "display_name": "Python 3"
    },
    "language_info": {
      "name": "python"
    }
  },
  "cells": [
    {
      "cell_type": "markdown",
      "source": [
        "#Supervised Classification: Decision Trees, SVM, and Naive Bayes"
      ],
      "metadata": {
        "id": "ZHT95DllwpQi"
      }
    },
    {
      "cell_type": "markdown",
      "source": [
        "Question 1 :  What is Information Gain, and how is it used in Decision Trees?\n",
        "- Information Gain measures the reduction in entropy (uncertainty) about the target variable after splitting the dataset on a given feature. For a feature A, Information Gain = Entropy(parent) − Weighted average Entropy(children). Decision trees use Information Gain to pick the feature that best separates the classes at each node."
      ],
      "metadata": {
        "id": "Dk4Fk7jqwu2y"
      }
    },
    {
      "cell_type": "markdown",
      "source": [
        "Question 2: What is the difference between Gini Impurity and Entropy?\n",
        "- Gini impurity (1 − Σp_i²) measures misclassification probability; Entropy (−Σp_i log₂ p_i) measures information uncertainty. Both are impurity measures; Gini is simpler and faster, while Entropy is more information-theoretic. Both produce similar results."
      ],
      "metadata": {
        "id": "JiImgekPxsMF"
      }
    },
    {
      "cell_type": "markdown",
      "source": [
        "Question 3:What is Pre-Pruning in Decision Trees?\n",
        "- Pre-pruning (early stopping) limits tree growth during training to avoid overfitting. Criteria include max_depth, min_samples_split, and min_gain. It prevents overly complex trees but can risk underfitting."
      ],
      "metadata": {
        "id": "aEmstTTPx1wP"
      }
    },
    {
      "cell_type": "markdown",
      "source": [
        "Question 4:Write a Python program to train a Decision Tree Classifier using Gini\n",
        "Impurity as the criterion and print the feature importances (practical).\n",
        "- from sklearn.datasets import load_iris\n",
        "from sklearn.tree import DecisionTreeClassifier\n",
        "\n",
        "iris = load_iris()\n",
        "X, y = iris.data, iris.target\n",
        "dt = DecisionTreeClassifier(criterion='gini', random_state=42)\n",
        "dt.fit(X, y)\n",
        "print(dt.feature_importances_)\n"
      ],
      "metadata": {
        "id": "JhMdDNp2x_AD"
      }
    },
    {
      "cell_type": "code",
      "source": [
        "from sklearn.datasets import load_iris\n",
        "from sklearn.tree import DecisionTreeClassifier\n",
        "\n",
        "iris = load_iris()\n",
        "X, y = iris.data, iris.target\n",
        "dt = DecisionTreeClassifier(criterion='gini', random_state=42)\n",
        "dt.fit(X, y)\n",
        "print(dt.feature_importances_)\n"
      ],
      "metadata": {
        "colab": {
          "base_uri": "https://localhost:8080/"
        },
        "id": "0J9P_InAyJqu",
        "outputId": "e34eea7c-6226-4e99-d2fd-9104c0862bca"
      },
      "execution_count": 1,
      "outputs": [
        {
          "output_type": "stream",
          "name": "stdout",
          "text": [
            "[0.01333333 0.         0.56405596 0.42261071]\n"
          ]
        }
      ]
    },
    {
      "cell_type": "markdown",
      "source": [
        "Question 5: What is a Support Vector Machine (SVM)?\n",
        "- SVM finds the hyperplane that maximally separates classes in a dataset. It uses support vectors (data points closest to the boundary) to define the optimal margin."
      ],
      "metadata": {
        "id": "x8oaz0bCyVn8"
      }
    },
    {
      "cell_type": "markdown",
      "source": [
        "Question 6:  What is the Kernel Trick in SVM?\n",
        "- The kernel trick allows SVM to compute in high-dimensional space without explicitly transforming data. Common kernels: Linear, Polynomial, RBF (Gaussian), Sigmoid."
      ],
      "metadata": {
        "id": "kerEOMD3ycuU"
      }
    },
    {
      "cell_type": "markdown",
      "source": [
        "Question 7:  Write a Python program to train two SVM classifiers with Linear and RBF\n",
        "kernels on the Wine dataset, then compare their accuracies.\n",
        "- from sklearn.datasets import load_wine\n",
        "from sklearn.svm import SVC\n",
        "from sklearn.model_selection import train_test_split\n",
        "from sklearn.preprocessing import StandardScaler\n",
        "from sklearn.metrics import accuracy_score\n",
        "\n",
        "wine = load_wine()\n",
        "X_train, X_test, y_train, y_test = train_test_split(wine.data, wine.target, test_size=0.25, random_state=42)\n",
        "scaler = StandardScaler()\n",
        "X_train = scaler.fit_transform(X_train)\n",
        "X_test = scaler.transform(X_test)\n",
        "\n",
        "svc_linear = SVC(kernel='linear')\n",
        "svc_rbf = SVC(kernel='rbf')\n",
        "svc_linear.fit(X_train, y_train)\n",
        "svc_rbf.fit(X_train, y_train)\n",
        "acc_linear = accuracy_score(y_test, svc_linear.predict(X_test))\n",
        "acc_rbf = accuracy_score(y_test, svc_rbf.predict(X_test))\n"
      ],
      "metadata": {
        "id": "3gsMHtygykxH"
      }
    },
    {
      "cell_type": "code",
      "source": [
        "from sklearn.datasets import load_wine\n",
        "from sklearn.svm import SVC\n",
        "from sklearn.model_selection import train_test_split\n",
        "from sklearn.preprocessing import StandardScaler\n",
        "from sklearn.metrics import accuracy_score\n",
        "\n",
        "wine = load_wine()\n",
        "X_train, X_test, y_train, y_test = train_test_split(wine.data, wine.target, test_size=0.25, random_state=42)\n",
        "scaler = StandardScaler()\n",
        "X_train = scaler.fit_transform(X_train)\n",
        "X_test = scaler.transform(X_test)\n",
        "\n",
        "svc_linear = SVC(kernel='linear')\n",
        "svc_rbf = SVC(kernel='rbf')\n",
        "svc_linear.fit(X_train, y_train)\n",
        "svc_rbf.fit(X_train, y_train)\n",
        "acc_linear = accuracy_score(y_test, svc_linear.predict(X_test))\n",
        "acc_rbf = accuracy_score(y_test, svc_rbf.predict(X_test))\n"
      ],
      "metadata": {
        "id": "y0DFDxm6ypzp"
      },
      "execution_count": 4,
      "outputs": []
    },
    {
      "cell_type": "markdown",
      "source": [
        "Question 8: What is the Naïve Bayes classifier, and why is it called \"Naïve\"?\n",
        "- Naïve Bayes applies Bayes' theorem assuming all features are conditionally independent. The 'naïve' assumption simplifies computation and works well in many practical cases."
      ],
      "metadata": {
        "id": "yR-sBQMDzLNW"
      }
    },
    {
      "cell_type": "markdown",
      "source": [
        "Question 9: Explain the differences between Gaussian Naïve Bayes, Multinomial Naïve\n",
        "Bayes, and Bernoulli Naïve Bayes.\n",
        "- GaussianNB: Continuous features (real-valued).\n",
        "MultinomialNB: Discrete counts (e.g., word counts).\n",
        "BernoulliNB: Binary features (presence/absence).\n"
      ],
      "metadata": {
        "id": "cKAe_lrczTiU"
      }
    },
    {
      "cell_type": "markdown",
      "source": [
        "Question 10:  Breast Cancer Dataset\n",
        "Write a Python program to train a Gaussian Naïve Bayes classifier on the Breast Cancer\n",
        "dataset and evaluate accuracy.\n",
        "- from sklearn.datasets import load_breast_cancer\n",
        "from sklearn.model_selection import train_test_split\n",
        "from sklearn.naive_bayes import GaussianNB\n",
        "from sklearn.metrics import accuracy_score\n",
        "\n",
        "bc = load_breast_cancer()\n",
        "X_train, X_test, y_train, y_test = train_test_split(bc.data, bc.target, test_size=0.25, random_state=42)\n",
        "model = GaussianNB()\n",
        "model.fit(X_train, y_train)\n",
        "pred = model.predict(X_test)\n",
        "print(accuracy_score(y_test, pred))\n"
      ],
      "metadata": {
        "id": "NtoMguquzdQG"
      }
    },
    {
      "cell_type": "code",
      "source": [
        "from sklearn.datasets import load_breast_cancer\n",
        "from sklearn.model_selection import train_test_split\n",
        "from sklearn.naive_bayes import GaussianNB\n",
        "from sklearn.metrics import accuracy_score\n",
        "\n",
        "bc = load_breast_cancer()\n",
        "X_train, X_test, y_train, y_test = train_test_split(bc.data, bc.target, test_size=0.25, random_state=42)\n",
        "model = GaussianNB()\n",
        "model.fit(X_train, y_train)\n",
        "pred = model.predict(X_test)\n",
        "print(accuracy_score(y_test, pred))\n"
      ],
      "metadata": {
        "colab": {
          "base_uri": "https://localhost:8080/"
        },
        "id": "nul9JXZLz3P1",
        "outputId": "33ba7f25-bb4f-41f3-d897-f440b6af209c"
      },
      "execution_count": 5,
      "outputs": [
        {
          "output_type": "stream",
          "name": "stdout",
          "text": [
            "0.958041958041958\n"
          ]
        }
      ]
    }
  ]
}